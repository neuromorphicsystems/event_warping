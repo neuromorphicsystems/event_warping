{
 "cells": [
  {
   "cell_type": "code",
   "execution_count": 1,
   "metadata": {},
   "outputs": [],
   "source": [
    "import matplotlib\n",
    "import matplotlib.pyplot\n",
    "import matplotlib.style\n",
    "import numpy\n",
    "import sympy\n",
    "import sympy.printing\n",
    "import sympy.utilities\n",
    "\n",
    "matplotlib.rcParams[\"figure.figsize\"] = [12, 6]\n",
    "matplotlib.style.use(\"dark_background\")\n",
    "sympy.init_printing(use_latex=True)"
   ]
  },
  {
   "attachments": {},
   "cell_type": "markdown",
   "metadata": {},
   "source": [
    "We introduce normalised variables to simplify the equations:\n",
    "- normalised pixel position `p = x / w`\n",
    "- normalised shear `s = delta * v / w`\n",
    "- count `c = delta * rho`"
   ]
  },
  {
   "cell_type": "code",
   "execution_count": 2,
   "metadata": {},
   "outputs": [],
   "source": [
    "# c0 := s < 1\n",
    "\n",
    "# c, p in ]0, +oo[\n",
    "c, p = sympy.symbols(\"c p\", real=True, positive=True)\n",
    "\n",
    "# s in ]0, 1[\n",
    "s0 = sympy.symbols(\"s0\", real=True, positive=True)\n",
    "s1 = s0 + 1\n",
    "s  = 1 / s1\n",
    "\n",
    "f = sympy.Piecewise(\n",
    "    (0, p < 0),\n",
    "    (p * c / s, p < s),\n",
    "    (c, p < 1),\n",
    "    (c * (1 - (p - 1) / s), p < 1 + s),\n",
    "    (0, True),\n",
    ")\n",
    "\n",
    "mu_with_assumptions = sympy.integrate((f / (1 + s)).simplify(), (p, 0, 1 + s)).simplify()\n",
    "variance_with_assumptions = sympy.integrate(\n",
    "    (((f - mu_with_assumptions) ** 2) / (1 + s)).simplify(), (p, 0, 1 + s)\n",
    ").simplify()\n"
   ]
  },
  {
   "cell_type": "code",
   "execution_count": 3,
   "metadata": {},
   "outputs": [],
   "source": [
    "# re-introduce variables to clear bindings\n",
    "s0, s1, s = sympy.symbols(\"s0 s1 s\", real=True, positive=True)\n",
    "\n",
    "mu_c0 = mu_with_assumptions.subs(s0, 1 / s - 1).simplify()\n",
    "variance_c0 = variance_with_assumptions.subs(s0, 1 / s - 1).simplify().factor()"
   ]
  },
  {
   "cell_type": "code",
   "execution_count": 4,
   "metadata": {},
   "outputs": [
    {
     "name": "stdout",
     "output_type": "stream",
     "text": [
      "\\frac{c}{s + 1}\n"
     ]
    },
    {
     "data": {
      "image/png": "[encoded data removed]",
      "text/latex": [
       "$\\displaystyle \\frac{c}{s + 1}$"
      ],
      "text/plain": [
       "  c  \n",
       "─────\n",
       "s + 1"
      ]
     },
     "execution_count": 4,
     "metadata": {},
     "output_type": "execute_result"
    }
   ],
   "source": [
    "print(sympy.printing.latex(mu_c0))\n",
    "mu_c0"
   ]
  },
  {
   "cell_type": "code",
   "execution_count": 5,
   "metadata": {},
   "outputs": [
    {
     "name": "stdout",
     "output_type": "stream",
     "text": [
      "- \\frac{c^{2} s \\left(s - 2\\right)}{3 \\left(s + 1\\right)^{2}}\n"
     ]
    },
    {
     "data": {
      "image/png": "[encoded data removed]",
      "text/latex": [
       "$\\displaystyle - \\frac{c^{2} s \\left(s - 2\\right)}{3 \\left(s + 1\\right)^{2}}$"
      ],
      "text/plain": [
       "  2           \n",
       "-c ⋅s⋅(s - 2) \n",
       "──────────────\n",
       "           2  \n",
       "  3⋅(s + 1)   "
      ]
     },
     "execution_count": 5,
     "metadata": {},
     "output_type": "execute_result"
    }
   ],
   "source": [
    "print(sympy.printing.latex(variance_c0))\n",
    "variance_c0"
   ]
  },
  {
   "cell_type": "code",
   "execution_count": 6,
   "metadata": {},
   "outputs": [],
   "source": [
    "# c1 := s > 1\n",
    "\n",
    "# c, p in ]0, +oo[\n",
    "c, p = sympy.symbols(\"c p\", real=True, positive=True)\n",
    "\n",
    "# s in ]1, +oo[\n",
    "s0 = sympy.symbols(\"s0\", real=True, positive=True)\n",
    "s = s0 + 1\n",
    "\n",
    "f = sympy.Piecewise(\n",
    "    (0, p < 0),\n",
    "    (p * c / s, p < 1),\n",
    "    (c / s, p < s),\n",
    "    (c * (1 + s - p) / s, p < 1 + s),\n",
    "    (0, True),\n",
    ")\n",
    "\n",
    "mu_with_assumptions = sympy.integrate((f / (1 + s)).simplify(), (p, 0, 1 + s)).simplify()\n",
    "variance_with_assumptions = sympy.integrate(\n",
    "    (((f - mu_with_assumptions) ** 2) / (1 + s)).simplify(), (p, 0, 1 + s)\n",
    ").simplify()"
   ]
  },
  {
   "cell_type": "code",
   "execution_count": 7,
   "metadata": {},
   "outputs": [],
   "source": [
    "# re-introduce variables to clear bindings\n",
    "s0, s = sympy.symbols(\"s0 s\", real=True, positive=True)\n",
    "\n",
    "mu_c1 = mu_with_assumptions.subs(s0, s - 1).simplify()\n",
    "variance_c1 = variance_with_assumptions.subs(s0, s - 1).simplify().factor()"
   ]
  },
  {
   "cell_type": "code",
   "execution_count": 8,
   "metadata": {
    "scrolled": true
   },
   "outputs": [
    {
     "name": "stdout",
     "output_type": "stream",
     "text": [
      "\\frac{c}{s + 1}\n"
     ]
    },
    {
     "data": {
      "image/png": "[encoded data removed]",
      "text/latex": [
       "$\\displaystyle \\frac{c}{s + 1}$"
      ],
      "text/plain": [
       "  c  \n",
       "─────\n",
       "s + 1"
      ]
     },
     "execution_count": 8,
     "metadata": {},
     "output_type": "execute_result"
    }
   ],
   "source": [
    "print(sympy.printing.latex(mu_c1))\n",
    "mu_c1"
   ]
  },
  {
   "cell_type": "code",
   "execution_count": 9,
   "metadata": {},
   "outputs": [
    {
     "name": "stdout",
     "output_type": "stream",
     "text": [
      "\\frac{c^{2} \\cdot \\left(2 s - 1\\right)}{3 s^{2} \\left(s + 1\\right)^{2}}\n"
     ]
    },
    {
     "data": {
      "image/png": "[encoded data removed]",
      "text/latex": [
       "$\\displaystyle \\frac{c^{2} \\cdot \\left(2 s - 1\\right)}{3 s^{2} \\left(s + 1\\right)^{2}}$"
      ],
      "text/plain": [
       "  2          \n",
       " c ⋅(2⋅s - 1)\n",
       "─────────────\n",
       "   2        2\n",
       "3⋅s ⋅(s + 1) "
      ]
     },
     "execution_count": 9,
     "metadata": {},
     "output_type": "execute_result"
    }
   ],
   "source": [
    "print(sympy.printing.latex(variance_c1))\n",
    "variance_c1"
   ]
  },
  {
   "cell_type": "code",
   "execution_count": 10,
   "metadata": {},
   "outputs": [
    {
     "data": {
      "text/plain": [
       "[<matplotlib.lines.Line2D at 0x12b6c9a10>]"
      ]
     },
     "execution_count": 10,
     "metadata": {},
     "output_type": "execute_result"
    },
    {
     "data": {
      "image/png": "[encoded data removed]",
      "text/plain": [
       "<Figure size 1200x600 with 1 Axes>"
      ]
     },
     "metadata": {},
     "output_type": "display_data"
    }
   ],
   "source": [
    "variance_c0_lambda = sympy.utilities.lambdify(s, variance_c0.subs(c, 1.0))\n",
    "variance_c1_lambda = sympy.utilities.lambdify(s, variance_c1.subs(c, 1.0))\n",
    "\n",
    "s_grid_c0 = numpy.linspace(0.0, 1.0, 1000, endpoint=False)\n",
    "s_grid_c1 = numpy.linspace(1.0, 5.0, 1000, endpoint=False)\n",
    "\n",
    "figure, subplot = matplotlib.pyplot.subplots(layout=\"constrained\")\n",
    "subplot.plot(\n",
    "    s_grid_c0,\n",
    "    numpy.vectorize(variance_c0_lambda)(s_grid_c0),\n",
    ")\n",
    "subplot.plot(\n",
    "    s_grid_c1,\n",
    "    numpy.vectorize(variance_c1_lambda)(s_grid_c1),\n",
    ")"
   ]
  }
 ],
 "metadata": {
  "kernelspec": {
   "display_name": "Python 3",
   "language": "python",
   "name": "python3"
  },
  "language_info": {
   "codemirror_mode": {
    "name": "ipython",
    "version": 3
   },
   "file_extension": ".py",
   "mimetype": "text/x-python",
   "name": "python",
   "nbconvert_exporter": "python",
   "pygments_lexer": "ipython3",
   "version": "3.11.3"
  }
 },
 "nbformat": 4,
 "nbformat_minor": 2
}
